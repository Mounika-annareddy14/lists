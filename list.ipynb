{
 "cells": [
  {
   "cell_type": "markdown",
   "metadata": {},
   "source": [
    "Lists\n",
    "There are four collection data types in Python :\n",
    "\n",
    "List: is a collection which is ordered and changeable(modifiable). Allows duplicate members.\n",
    "Tuple: is a collection which is ordered and unchangeable or unmodifiable(immutable). Allows duplicate members.\n",
    "Set: is a collection which is unordered, un-indexed and unmodifiable, but we can add new items to the set. Duplicate members are not allowed.\n",
    "Dictionary: is a collection which is unordered, changeable(modifiable) and indexed. No duplicate members.\n",
    "A list is collection of different data types which is ordered and modifiable(mutable). A list can be empty or it may have different data type items."
   ]
  },
  {
   "cell_type": "markdown",
   "metadata": {},
   "source": [
    "in python we can create list in 2ways \n",
    "\n",
    "1.using list built in function\n",
    "\n",
    "2.using square brackets"
   ]
  },
  {
   "cell_type": "code",
   "execution_count": 69,
   "metadata": {},
   "outputs": [],
   "source": [
    "#creating a list\n",
    "#using list built in function\n",
    "lst= list()"
   ]
  },
  {
   "cell_type": "code",
   "execution_count": 70,
   "metadata": {},
   "outputs": [
    {
     "name": "stdout",
     "output_type": "stream",
     "text": [
      "0\n"
     ]
    }
   ],
   "source": [
    "empty_list=list()   #this is an empty list no item in the list\n",
    "print(len(empty_list))  #0"
   ]
  },
  {
   "cell_type": "code",
   "execution_count": 71,
   "metadata": {},
   "outputs": [
    {
     "name": "stdout",
     "output_type": "stream",
     "text": [
      "0\n"
     ]
    }
   ],
   "source": [
    "#using Square brackets\n",
    "\n",
    "lst=[]\n",
    "empty_list=[]\n",
    "print(len(empty_list))"
   ]
  },
  {
   "cell_type": "code",
   "execution_count": 72,
   "metadata": {},
   "outputs": [
    {
     "name": "stdout",
     "output_type": "stream",
     "text": [
      "fruits: ['banana', 'apple', 'pineapple', 'kiwi', 'orange']\n",
      "length of fruits : 5\n",
      "vegetables: ['tomato', 'potato', 'onion', 'cabbage', 'carrot']\n",
      "vegetables 5\n",
      "animal_products : ['milk', 'meat', 'butter', 'yoghurt']\n",
      "animal_products :  4\n",
      "countries : ['india', 'pakistan', 'austrlia', 'sweden', 'Norway']\n",
      "countries 5\n"
     ]
    }
   ],
   "source": [
    "#list with intial values.we use len() to find the length of the function\n",
    "fruits=['banana','apple','pineapple','kiwi','orange']\n",
    "vegetables=['tomato','potato','onion','cabbage','carrot']\n",
    "animal_products=['milk','meat','butter','yoghurt']\n",
    "countries=['india','pakistan','austrlia','sweden','Norway']\n",
    "#print the list and its length\n",
    "\n",
    "print(f'fruits: {fruits}')\n",
    "b=len(fruits)\n",
    "print(f'length of fruits : {b}')\n",
    "print(f'vegetables: {vegetables}')\n",
    "print('vegetables',len(vegetables))\n",
    "print(f'animal_products : {animal_products}')\n",
    "print('animal_products : ',len(animal_products))\n",
    "print(f'countries : {countries}')\n",
    "print('countries',len(countries))"
   ]
  },
  {
   "cell_type": "markdown",
   "metadata": {},
   "source": [
    "* Lists can have items of different data types"
   ]
  },
  {
   "cell_type": "code",
   "execution_count": 73,
   "metadata": {},
   "outputs": [],
   "source": [
    "lst=[True,0,1,'mounika',(1,2,3,4,5),{1:2,4:6,'mounika':22}]"
   ]
  },
  {
   "cell_type": "markdown",
   "metadata": {},
   "source": [
    "Accessing List Items Using Positive Indexing\n",
    "We access each item in a list using their index. A list index starts from 0."
   ]
  },
  {
   "cell_type": "code",
   "execution_count": 74,
   "metadata": {},
   "outputs": [
    {
     "name": "stdout",
     "output_type": "stream",
     "text": [
      "mango\n"
     ]
    }
   ],
   "source": [
    "fruits=['mango','banana','lemon','orange']\n",
    "print(fruits[0])"
   ]
  },
  {
   "cell_type": "code",
   "execution_count": 75,
   "metadata": {},
   "outputs": [
    {
     "name": "stdout",
     "output_type": "stream",
     "text": [
      "orange\n"
     ]
    }
   ],
   "source": [
    "last_index=len(fruits)-1\n",
    "last_fruit=fruits[last_index]\n",
    "print(last_fruit)"
   ]
  },
  {
   "cell_type": "markdown",
   "metadata": {},
   "source": [
    "Accessing List Items Using Negative Indexing\n",
    "Negative indexing means beginning from the end, -1 refers to the last item, -2 refers to the second last item.\n",
    "\n",
    "List negative indexing"
   ]
  },
  {
   "cell_type": "code",
   "execution_count": 76,
   "metadata": {},
   "outputs": [
    {
     "name": "stdout",
     "output_type": "stream",
     "text": [
      "orange\n",
      "mango\n"
     ]
    }
   ],
   "source": [
    "fruits=['mango','apple','lemon','orange']\n",
    "print(fruits[-1])  #last fruit\n",
    "print(fruits[-4])   #first fruit"
   ]
  },
  {
   "cell_type": "code",
   "execution_count": 77,
   "metadata": {},
   "outputs": [
    {
     "name": "stdout",
     "output_type": "stream",
     "text": [
      "item1\n",
      "item2\n",
      "item3\n",
      "['item4', 'item5']\n"
     ]
    }
   ],
   "source": [
    "#Unpacking List Items\n",
    "lst=['item1','item2','item3','item4','item5']\n",
    "first_item,second_item,third_item, *rest=lst\n",
    "print(first_item)\n",
    "print(second_item)\n",
    "print(third_item)\n",
    "print(rest)"
   ]
  },
  {
   "cell_type": "code",
   "execution_count": 78,
   "metadata": {},
   "outputs": [
    {
     "name": "stdout",
     "output_type": "stream",
     "text": [
      "apple\n",
      "mango\n",
      "pineapple\n",
      "['orange', 'lemon', 'banana', 'lime']\n"
     ]
    }
   ],
   "source": [
    "fruits=['apple','mango','pineapple','orange','lemon','banana','lime']\n",
    "first_fruit,second_fruit,third_fruit,*rest=fruits\n",
    "print(first_fruit)\n",
    "print(second_fruit)\n",
    "print(third_fruit)\n",
    "print(rest)"
   ]
  },
  {
   "cell_type": "code",
   "execution_count": 79,
   "metadata": {},
   "outputs": [
    {
     "name": "stdout",
     "output_type": "stream",
     "text": [
      "1\n",
      "2\n",
      "3\n",
      "[4, 5, 6, 7, 8, 9]\n",
      "10\n"
     ]
    }
   ],
   "source": [
    "first,second,third,*rest,tenth=[1,2,3,4,5,6,7,8,9,10]\n",
    "print(first)\n",
    "print(second)\n",
    "print(third)\n",
    "print(rest)\n",
    "print(tenth)"
   ]
  },
  {
   "cell_type": "code",
   "execution_count": 80,
   "metadata": {},
   "outputs": [
    {
     "name": "stdout",
     "output_type": "stream",
     "text": [
      "india\n",
      "norway\n",
      "sweden\n",
      "austrila\n",
      "['denmark', 'iceland', 'france']\n",
      "germany\n"
     ]
    }
   ],
   "source": [
    "countries=['india','norway','sweden','austrila','denmark','iceland','france','germany']\n",
    "id,no,sw,au,*scandic,ge=countries\n",
    "print(id)\n",
    "print(no)\n",
    "print(sw)\n",
    "print(au)\n",
    "print(scandic)\n",
    "print(ge)"
   ]
  },
  {
   "cell_type": "markdown",
   "metadata": {},
   "source": [
    "Slicing Items from a List\n",
    "\n",
    "Positive Indexing: We can specify a range of positive indexes by specifying the start, end and step, the return value will be a new list. (default values for start = 0, end = len(lst) - 1 (last item), step = 1)"
   ]
  },
  {
   "cell_type": "code",
   "execution_count": 81,
   "metadata": {},
   "outputs": [
    {
     "name": "stdout",
     "output_type": "stream",
     "text": [
      "['orange', 'apple']\n",
      "['orange', 'apple', 'mango', 'kiwi']\n",
      "['banana', 'apple', 'kiwi']\n",
      "['banana', 'orange', 'apple', 'mango', 'kiwi']\n"
     ]
    }
   ],
   "source": [
    "fruits=['banana','orange','apple','mango','kiwi']\n",
    "all_fruits=fruits[0:4]  #it returns all the fruits\n",
    "#this will also give the same result as the one above\n",
    "all_fruits=fruits[0:]  #if we dont set where to stop it takes all the rest\n",
    "orange_and_mango=fruits[1:3]  #it does not include the first index\n",
    "orange_mango_lemon=fruits[1:]\n",
    "orange_and_lemon=fruits[::2]  # # here we used a 3rd argument, step. It will take every 2cnd item - ['banana', 'mango']\n",
    "print(orange_and_mango)\n",
    "print(orange_mango_lemon)\n",
    "print(orange_and_lemon)\n",
    "print(all_fruits)\n",
    "\n",
    "\n"
   ]
  },
  {
   "cell_type": "markdown",
   "metadata": {},
   "source": [
    "Negative Indexing: We can specify a range of negative indexes by specifying the start, end and step, the return value will be a new list.\n"
   ]
  },
  {
   "cell_type": "code",
   "execution_count": 82,
   "metadata": {},
   "outputs": [
    {
     "name": "stdout",
     "output_type": "stream",
     "text": [
      "['banana', 'orange', 'mango', 'lemon']\n",
      "['orange', 'mango']\n",
      "['orange', 'mango', 'lemon']\n",
      "['lemon', 'mango', 'orange', 'banana']\n"
     ]
    }
   ],
   "source": [
    "fruits=['banana','orange','mango','lemon']\n",
    "all_fruits=fruits[-4:]   # it returns all the fruits\n",
    "orange_and_mango=fruits[-3:-1]  # it does not include the last index,['orange', 'mango']\n",
    "orange_mango_lemon=fruits[-3:]   # this will give starting from -3 to the end,['orange', 'mango', 'lemon']\n",
    "reverse_fruits=fruits[::-1]    # a negative step will take the list in reverse order,['lemon', 'mango', 'orange', 'banana']\n",
    "print(all_fruits)\n",
    "print(orange_and_mango)\n",
    "print(orange_mango_lemon)\n",
    "print(reverse_fruits)"
   ]
  },
  {
   "cell_type": "markdown",
   "metadata": {},
   "source": [
    "Modifying Lists\n",
    "List is a mutable or modifiable ordered collection of items. Lets modify the fruit list."
   ]
  },
  {
   "cell_type": "code",
   "execution_count": 83,
   "metadata": {},
   "outputs": [
    {
     "name": "stdout",
     "output_type": "stream",
     "text": [
      "['avacodo', 'orange', 'mango', 'lemon']\n",
      "['avacodo', 'apple', 'mango', 'lemon']\n",
      "['avacodo', 'apple', 'mango', 'lime']\n"
     ]
    }
   ],
   "source": [
    "fruits=['banana','orange','mango','lemon']\n",
    "fruits[0]='avacodo'\n",
    "print(fruits)\n",
    "fruits[1]='apple'\n",
    "print(fruits)\n",
    "last_index=len(fruits)-1\n",
    "fruits[last_index]='lime'\n",
    "print(fruits)"
   ]
  },
  {
   "cell_type": "markdown",
   "metadata": {},
   "source": [
    "Checking Items in a List\n",
    "Checking an item if it is a member of a list using in operator."
   ]
  },
  {
   "cell_type": "code",
   "execution_count": 84,
   "metadata": {},
   "outputs": [
    {
     "name": "stdout",
     "output_type": "stream",
     "text": [
      "True\n",
      "False\n"
     ]
    }
   ],
   "source": [
    "fruits=['banana','orange','mango','lemon']\n",
    "does_exist1='banana' in fruits\n",
    "does_exist='lime' in fruits\n",
    "print(does_exist1)\n",
    "print(does_exist)"
   ]
  },
  {
   "cell_type": "code",
   "execution_count": 94,
   "metadata": {},
   "outputs": [
    {
     "name": "stdout",
     "output_type": "stream",
     "text": [
      "True\n"
     ]
    }
   ],
   "source": [
    "fruits=['banana','orange']\n",
    "does_exist='banana' in fruits\n",
    "print(does_exist)"
   ]
  },
  {
   "cell_type": "markdown",
   "metadata": {},
   "source": [
    "Adding Items to a List"
   ]
  },
  {
   "cell_type": "code",
   "execution_count": 85,
   "metadata": {},
   "outputs": [
    {
     "name": "stdout",
     "output_type": "stream",
     "text": [
      "['item']\n"
     ]
    }
   ],
   "source": [
    "# syntax\n",
    "lst = list()\n",
    "lst.append('item')\n",
    "print(lst)"
   ]
  },
  {
   "cell_type": "code",
   "execution_count": 2,
   "metadata": {},
   "outputs": [
    {
     "name": "stdout",
     "output_type": "stream",
     "text": [
      "['banana', 'mango', 'kiwi', 'lime', 'watermelon']\n"
     ]
    }
   ],
   "source": [
    "#To add item to the end of an existing list we use the method append().\n",
    "lst1=['banana','mango','kiwi','lime']\n",
    "lst1.append('watermelon')\n",
    "print(lst1)"
   ]
  },
  {
   "cell_type": "code",
   "execution_count": 3,
   "metadata": {},
   "outputs": [
    {
     "name": "stdout",
     "output_type": "stream",
     "text": [
      "[500]\n"
     ]
    }
   ],
   "source": [
    "lst=list()\n",
    "lst.append(500)\n",
    "print(lst)"
   ]
  },
  {
   "cell_type": "code",
   "execution_count": 88,
   "metadata": {},
   "outputs": [
    {
     "name": "stdout",
     "output_type": "stream",
     "text": [
      "['banana', 'orange', 'mango', 'lemon', 'apple']\n",
      "['banana', 'orange', 'mango', 'lemon', 'apple', 'lime']\n"
     ]
    }
   ],
   "source": [
    "fruits = ['banana', 'orange', 'mango', 'lemon']\n",
    "fruits.append('apple')\n",
    "print(fruits)           # ['banana', 'orange', 'mango', 'lemon', 'apple']\n",
    "fruits.append('lime')   # ['banana', 'orange', 'mango', 'lemon', 'apple', 'lime']\n",
    "print(fruits)"
   ]
  },
  {
   "cell_type": "code",
   "execution_count": 4,
   "metadata": {},
   "outputs": [
    {
     "name": "stdout",
     "output_type": "stream",
     "text": [
      "['a', 'b', 'd']\n"
     ]
    }
   ],
   "source": [
    "a=['a','b']\n",
    "a.append('d')\n",
    "print(a)"
   ]
  },
  {
   "cell_type": "code",
   "execution_count": 90,
   "metadata": {},
   "outputs": [
    {
     "name": "stdout",
     "output_type": "stream",
     "text": [
      "hello world\n"
     ]
    }
   ],
   "source": [
    "print('hello world')"
   ]
  },
  {
   "cell_type": "markdown",
   "metadata": {},
   "source": [
    "Inserting Items into a List\n",
    "\n",
    "We can use insert() method to insert a single item at a specified index in a list. Note that other items are shifted to the right. The insert() methods takes two arguments:index and an item to insert."
   ]
  },
  {
   "cell_type": "code",
   "execution_count": 1,
   "metadata": {},
   "outputs": [
    {
     "name": "stdout",
     "output_type": "stream",
     "text": [
      "['item1', 'item2', 'kiwi']\n"
     ]
    }
   ],
   "source": [
    "#syntax\n",
    "mouni=['item1','item2']\n",
    "mouni.insert(2,'kiwi')\n",
    "print(mouni)\n"
   ]
  },
  {
   "cell_type": "code",
   "execution_count": 92,
   "metadata": {},
   "outputs": [
    {
     "name": "stdout",
     "output_type": "stream",
     "text": [
      "['item1', 'item2', 'mouni']\n"
     ]
    }
   ],
   "source": [
    "# syntax\n",
    "lst = ['item1', 'item2']\n",
    "lst.insert(2, 'mouni')\n",
    "print(lst)"
   ]
  },
  {
   "cell_type": "markdown",
   "metadata": {},
   "source": [
    "Removing Items from a List\n",
    "The remove method removes a specified item from a list"
   ]
  },
  {
   "cell_type": "code",
   "execution_count": 6,
   "metadata": {},
   "outputs": [
    {
     "name": "stdout",
     "output_type": "stream",
     "text": [
      "['item1']\n"
     ]
    }
   ],
   "source": [
    "#syntax\n",
    "lst=['item','item1']\n",
    "lst.remove('item')\n",
    "print(lst)"
   ]
  },
  {
   "cell_type": "code",
   "execution_count": 7,
   "metadata": {},
   "outputs": [
    {
     "name": "stdout",
     "output_type": "stream",
     "text": [
      "['mango', 'kiwi', 'orange', 'apple']\n",
      "['mango', 'kiwi', 'orange']\n"
     ]
    }
   ],
   "source": [
    "fruits=['banana','mango','kiwi','orange','apple','banana']\n",
    "fruits.remove('banana')  #this method removes the first occurrence of the item in the list\n",
    "print(fruits)\n",
    "fruits.remove('apple')\n",
    "print(fruits)"
   ]
  },
  {
   "cell_type": "markdown",
   "metadata": {},
   "source": [
    "Removing Items Using Pop\n",
    "\n",
    "The pop() method removes the specified index, (or the last item if index is not specified):"
   ]
  },
  {
   "cell_type": "code",
   "execution_count": 14,
   "metadata": {},
   "outputs": [
    {
     "name": "stdout",
     "output_type": "stream",
     "text": [
      "['banana', 'mango', 'orange', 'kiwi']\n"
     ]
    }
   ],
   "source": [
    "fruits=['banana','mango','apple','orange','kiwi']\n",
    "fruits.pop()\n",
    "print(fruits)\n",
    "\n",
    "fruits.pop(2)\n",
    "print(fruits)"
   ]
  },
  {
   "cell_type": "markdown",
   "metadata": {},
   "source": [
    "Removing Items Using Del\n",
    "\n",
    "The del keyword removes the specified index and it can also be used to delete items within index range. It can also delete the list completely"
   ]
  },
  {
   "cell_type": "code",
   "execution_count": 17,
   "metadata": {},
   "outputs": [
    {
     "name": "stdout",
     "output_type": "stream",
     "text": [
      "['item']\n"
     ]
    }
   ],
   "source": [
    "#syntax\n",
    "lst=['item','item1']\n",
    "del lst[1]\n",
    "print(lst)"
   ]
  },
  {
   "cell_type": "code",
   "execution_count": 19,
   "metadata": {},
   "outputs": [
    {
     "ename": "NameError",
     "evalue": "name 'lst' is not defined",
     "output_type": "error",
     "traceback": [
      "\u001b[1;31m---------------------------------------------------------------------------\u001b[0m",
      "\u001b[1;31mNameError\u001b[0m                                 Traceback (most recent call last)",
      "Cell \u001b[1;32mIn[19], line 1\u001b[0m\n\u001b[1;32m----> 1\u001b[0m \u001b[38;5;28;01mdel\u001b[39;00m \u001b[43mlst\u001b[49m\n\u001b[0;32m      2\u001b[0m \u001b[38;5;28mprint\u001b[39m(lst)\n",
      "\u001b[1;31mNameError\u001b[0m: name 'lst' is not defined"
     ]
    }
   ],
   "source": [
    "del lst\n",
    "print(lst)"
   ]
  },
  {
   "cell_type": "code",
   "execution_count": 20,
   "metadata": {},
   "outputs": [
    {
     "name": "stdout",
     "output_type": "stream",
     "text": [
      "['mango', 'lemon', 'kiwi', 'lime']\n",
      "['mango', 'kiwi', 'lime']\n",
      "['mango']\n"
     ]
    },
    {
     "ename": "NameError",
     "evalue": "name 'fruits' is not defined",
     "output_type": "error",
     "traceback": [
      "\u001b[1;31m---------------------------------------------------------------------------\u001b[0m",
      "\u001b[1;31mNameError\u001b[0m                                 Traceback (most recent call last)",
      "Cell \u001b[1;32mIn[20], line 12\u001b[0m\n\u001b[0;32m      9\u001b[0m \u001b[38;5;28mprint\u001b[39m(fruits)\n\u001b[0;32m     11\u001b[0m \u001b[38;5;28;01mdel\u001b[39;00m fruits\n\u001b[1;32m---> 12\u001b[0m \u001b[38;5;28mprint\u001b[39m(\u001b[43mfruits\u001b[49m)\n",
      "\u001b[1;31mNameError\u001b[0m: name 'fruits' is not defined"
     ]
    }
   ],
   "source": [
    "fruits=['banana','mango','lemon','kiwi','lime']\n",
    "del fruits[0]\n",
    "print(fruits)\n",
    "\n",
    "del fruits[1]\n",
    "print(fruits)\n",
    "\n",
    "del fruits[1:3]\n",
    "print(fruits)\n",
    "\n",
    "del fruits\n",
    "print(fruits)"
   ]
  },
  {
   "cell_type": "markdown",
   "metadata": {},
   "source": [
    "Clearing List Items\n",
    "\n",
    "The clear() method empties the list:"
   ]
  },
  {
   "cell_type": "code",
   "execution_count": 22,
   "metadata": {},
   "outputs": [
    {
     "name": "stdout",
     "output_type": "stream",
     "text": [
      "[]\n"
     ]
    }
   ],
   "source": [
    "#syntax\n",
    "lst=['item','item1']\n",
    "lst.clear()\n",
    "print(lst)"
   ]
  },
  {
   "cell_type": "code",
   "execution_count": 23,
   "metadata": {},
   "outputs": [
    {
     "name": "stdout",
     "output_type": "stream",
     "text": [
      "[]\n"
     ]
    }
   ],
   "source": [
    "fruits=['banana','mango','kiwi']\n",
    "fruits.clear()\n",
    "print(lst)"
   ]
  },
  {
   "cell_type": "markdown",
   "metadata": {},
   "source": [
    "Copying a List\n",
    "\n",
    "It is possible to copy a list by reassigning it to a new variable in the following way: list2 = list1. Now, list2 is a reference of list1, any changes we make in list2 will also modify the original, list1. But there are lots of case in which we do not like to modify the original instead we like to have a different copy. One of way of avoiding the problem above is using copy()."
   ]
  },
  {
   "cell_type": "code",
   "execution_count": 24,
   "metadata": {},
   "outputs": [
    {
     "name": "stdout",
     "output_type": "stream",
     "text": [
      "['item', 'item1']\n"
     ]
    }
   ],
   "source": [
    "#syntax\n",
    "lst=['item','item1']\n",
    "list_copy=lst.copy()\n",
    "print(list_copy)"
   ]
  },
  {
   "cell_type": "code",
   "execution_count": 29,
   "metadata": {},
   "outputs": [
    {
     "name": "stdout",
     "output_type": "stream",
     "text": [
      "['banana', 'kiwi', 'apple', 'mango']\n"
     ]
    }
   ],
   "source": [
    "fuits=['banana','kiwi','apple','mango']\n",
    "lst_copy=fuits.copy()\n",
    "print(lst_copy)"
   ]
  },
  {
   "cell_type": "code",
   "execution_count": 27,
   "metadata": {},
   "outputs": [
    {
     "name": "stdout",
     "output_type": "stream",
     "text": [
      "['1', 2]\n"
     ]
    }
   ],
   "source": [
    "a=['1',2]\n",
    "b=a.copy()\n",
    "print(b)"
   ]
  },
  {
   "cell_type": "markdown",
   "metadata": {},
   "source": [
    "Joining Lists\n",
    "There are several ways to join, or concatenate, two or more lists in Python.\n",
    "\n",
    "Plus Operator (+)\n",
    "\n",
    "list3=list1 + list2"
   ]
  },
  {
   "cell_type": "code",
   "execution_count": 30,
   "metadata": {},
   "outputs": [
    {
     "name": "stdout",
     "output_type": "stream",
     "text": [
      "[-1, -2, -3, -4, -5, -6, -7, -8, 0, 1, 2, 3, 4, 5, 6, 7, 8]\n"
     ]
    }
   ],
   "source": [
    "#syntax\n",
    "positive_numbers=[1,2,3,4,5,6,7,8]\n",
    "zero=[0]\n",
    "negative_numbers=[-1,-2,-3,-4,-5,-6,-7,-8]\n",
    "integers=negative_numbers + zero + positive_numbers\n",
    "print(integers)"
   ]
  },
  {
   "cell_type": "code",
   "execution_count": 31,
   "metadata": {},
   "outputs": [
    {
     "name": "stdout",
     "output_type": "stream",
     "text": [
      "['mango', 'kiwi', 'apple', 'banana', 'orange', 'brinjal', 'ladyfinger', 'onion', 'potato', 'tomato']\n"
     ]
    }
   ],
   "source": [
    "fruits=['mango','kiwi','apple','banana','orange']\n",
    "vegetables=['brinjal','ladyfinger','onion','potato','tomato']\n",
    "fruits_vegetables=fruits+vegetables\n",
    "print(fruits_vegetables)"
   ]
  },
  {
   "cell_type": "markdown",
   "metadata": {},
   "source": [
    "Joining using extend() method The extend() method allows to append list in a list."
   ]
  },
  {
   "cell_type": "code",
   "execution_count": 34,
   "metadata": {},
   "outputs": [
    {
     "name": "stdout",
     "output_type": "stream",
     "text": [
      "['item1', 'item2', 'item3', 'item4', 'item5']\n"
     ]
    }
   ],
   "source": [
    "#syntax\n",
    "list1=['item1','item2']\n",
    "list2=['item3','item4','item5']\n",
    "list1.extend(list2)\n",
    "print(list1)"
   ]
  },
  {
   "cell_type": "code",
   "execution_count": 36,
   "metadata": {},
   "outputs": [
    {
     "name": "stdout",
     "output_type": "stream",
     "text": [
      "numbers: [0, 1, 2, 3, 4, 5, 6, 7]\n"
     ]
    }
   ],
   "source": [
    "num1=[0,1,2,3]\n",
    "num2=[4,5,6,7]\n",
    "num1.extend(num2)\n",
    "print('numbers:',num1)"
   ]
  },
  {
   "cell_type": "code",
   "execution_count": 38,
   "metadata": {},
   "outputs": [
    {
     "name": "stdout",
     "output_type": "stream",
     "text": [
      "integers: [-1, -2, -3, -4, -5, 0, 1, 2, 3, 4, 5, 6]\n"
     ]
    }
   ],
   "source": [
    "negative_numbers=[-1,-2,-3,-4,-5]\n",
    "positive_numbers=[1,2,3,4,5,6]\n",
    "zero=[0]\n",
    "negative_numbers.extend(zero)\n",
    "negative_numbers.extend(positive_numbers)\n",
    "print('integers:',negative_numbers)"
   ]
  },
  {
   "cell_type": "code",
   "execution_count": 39,
   "metadata": {},
   "outputs": [
    {
     "name": "stdout",
     "output_type": "stream",
     "text": [
      "['banana', 'kiwi', 'grapes', 'watermelon', 'potato', 'cucmber', 'brinjal', 'onion']\n"
     ]
    }
   ],
   "source": [
    "fruits=['banana','kiwi','grapes','watermelon']\n",
    "vegetables=['potato','cucmber','brinjal','onion']\n",
    "fruits.extend(vegetables)\n",
    "print(fruits)"
   ]
  },
  {
   "cell_type": "markdown",
   "metadata": {},
   "source": [
    "Counting Items in a List\n",
    "The count() method returns the number of times an item appears in a list:"
   ]
  },
  {
   "cell_type": "code",
   "execution_count": 40,
   "metadata": {},
   "outputs": [
    {
     "data": {
      "text/plain": [
       "2"
      ]
     },
     "execution_count": 40,
     "metadata": {},
     "output_type": "execute_result"
    }
   ],
   "source": [
    "#syntax\n",
    "lst=['item','item1','item']\n",
    "lst.count('item')"
   ]
  },
  {
   "cell_type": "code",
   "execution_count": 42,
   "metadata": {},
   "outputs": [
    {
     "name": "stdout",
     "output_type": "stream",
     "text": [
      "1\n",
      "2\n"
     ]
    }
   ],
   "source": [
    "fruits=['banana','mango','orange','apple']\n",
    "print(fruits.count('mango'))\n",
    "ages=[12,56,78,98,98,7,3,7,3,4,5]\n",
    "print(ages.count(7))"
   ]
  },
  {
   "cell_type": "markdown",
   "metadata": {},
   "source": [
    "Reversing a List\n",
    "The reverse() method reverses the order of a list."
   ]
  },
  {
   "cell_type": "code",
   "execution_count": 43,
   "metadata": {},
   "outputs": [
    {
     "name": "stdout",
     "output_type": "stream",
     "text": [
      "['item2', 'item1']\n"
     ]
    }
   ],
   "source": [
    "#syntax\n",
    "lst=['item1','item2']\n",
    "lst.reverse()\n",
    "print(lst)"
   ]
  },
  {
   "cell_type": "code",
   "execution_count": 45,
   "metadata": {},
   "outputs": [
    {
     "name": "stdout",
     "output_type": "stream",
     "text": [
      "['orange', 'apple', 'kiwi', 'mango', 'banana']\n"
     ]
    }
   ],
   "source": [
    "fruits=['banana','mango','kiwi','apple','orange']\n",
    "fruits.reverse()\n",
    "\n",
    "print(fruits)"
   ]
  },
  {
   "cell_type": "code",
   "execution_count": 46,
   "metadata": {},
   "outputs": [
    {
     "name": "stdout",
     "output_type": "stream",
     "text": [
      "[43, 56, 76, 98, 5, 8, 76, 12]\n"
     ]
    }
   ],
   "source": [
    "ages=[12,76,8,5,98,76,56,43]\n",
    "ages.reverse()\n",
    "print(ages)"
   ]
  },
  {
   "cell_type": "markdown",
   "metadata": {},
   "source": [
    "Sorting List Items\n",
    "\n",
    "To sort lists we can use sort() method or sorted() built-in functions. The sort() method reorders the list items in ascending order and modifies the original list. If an argument of sort() method reverse is equal to true, it will arrange the list in descending order.\n",
    "\n",
    "sort(): this method modifies the original list\n",
    "\n"
   ]
  },
  {
   "cell_type": "code",
   "execution_count": 47,
   "metadata": {},
   "outputs": [],
   "source": [
    "#syntax\n",
    "lst=['item','item2']\n",
    "lst.sort()\n",
    "lst.sort(reverse=True)"
   ]
  },
  {
   "cell_type": "code",
   "execution_count": 49,
   "metadata": {},
   "outputs": [
    {
     "name": "stdout",
     "output_type": "stream",
     "text": [
      "[0, 1, 2, 3, 4, 6, 7, 8, 9, 12, 32, 54, 56, 76, 98]\n",
      "[98, 76, 56, 54, 32, 12, 9, 8, 7, 6, 4, 3, 2, 1, 0]\n"
     ]
    }
   ],
   "source": [
    "lst=[56,98,76,54,32,12,2,3,4,0,9,1,6,7,8]\n",
    "lst.sort()\n",
    "print(lst)\n",
    "lst.sort(reverse=True)\n",
    "print(lst)"
   ]
  },
  {
   "cell_type": "code",
   "execution_count": 51,
   "metadata": {},
   "outputs": [
    {
     "name": "stdout",
     "output_type": "stream",
     "text": [
      "['apple', 'banana', 'kiwi', 'orange', 'pineapple']\n",
      "['pineapple', 'orange', 'kiwi', 'banana', 'apple']\n"
     ]
    }
   ],
   "source": [
    "fruits=['banana','apple','kiwi','orange','pineapple']\n",
    "fruits.sort()\n",
    "print(fruits)\n",
    "fruits.sort(reverse=True)\n",
    "print(fruits)"
   ]
  },
  {
   "cell_type": "markdown",
   "metadata": {},
   "source": [
    "sorted(): returns the ordered list without modifying the original list "
   ]
  },
  {
   "cell_type": "code",
   "execution_count": 53,
   "metadata": {},
   "outputs": [
    {
     "name": "stdout",
     "output_type": "stream",
     "text": [
      "['banana', 'kiwi', 'mango', 'orange']\n",
      "['orange', 'mango', 'kiwi', 'banana']\n"
     ]
    }
   ],
   "source": [
    "fruits=['banana','mango','kiwi','orange']\n",
    "print(sorted(fruits))\n",
    "print(sorted(fruits,reverse=True))"
   ]
  },
  {
   "cell_type": "markdown",
   "metadata": {},
   "source": [
    "**Practise programms**\n"
   ]
  },
  {
   "cell_type": "markdown",
   "metadata": {},
   "source": [
    "Declare an empty list\n",
    "\n",
    "Declare a list with more than 5 items\n",
    "\n",
    "Find the length of your list\n",
    "\n",
    "Get the first item, the middle item and the last item of the list\n",
    "\n"
   ]
  },
  {
   "cell_type": "code",
   "execution_count": 54,
   "metadata": {},
   "outputs": [
    {
     "name": "stdout",
     "output_type": "stream",
     "text": [
      "[]\n"
     ]
    }
   ],
   "source": [
    "a=[]\n",
    "print(a)"
   ]
  },
  {
   "cell_type": "code",
   "execution_count": 55,
   "metadata": {},
   "outputs": [
    {
     "name": "stdout",
     "output_type": "stream",
     "text": [
      "7\n"
     ]
    }
   ],
   "source": [
    "a=['mouni','apple',1,2,True,{1:2},(1,2,3)]\n",
    "print(len(a))"
   ]
  },
  {
   "cell_type": "code",
   "execution_count": 63,
   "metadata": {},
   "outputs": [
    {
     "name": "stdout",
     "output_type": "stream",
     "text": [
      "first item :mouni\n",
      "middle item : 2\n",
      "last item :(1, 2, 3)\n"
     ]
    }
   ],
   "source": [
    "print(f'first item :{a[0]}')\n",
    "print(f'middle item : {a[3]}')\n",
    "last_index=len(a)-1\n",
    "last_item=a[last_index]\n",
    "print(f'last item :{last_item}')"
   ]
  },
  {
   "cell_type": "markdown",
   "metadata": {},
   "source": [
    "Declare a list called mixed_data_types, put your(name, age, height, marital status, address)"
   ]
  },
  {
   "cell_type": "code",
   "execution_count": 68,
   "metadata": {},
   "outputs": [
    {
     "name": "stdout",
     "output_type": "stream",
     "text": [
      "['mounika', 22, 5.67, 'single', ' 500072,Hyderabad']\n"
     ]
    }
   ],
   "source": [
    "mixed_data_types=['mounika',22,5.67,'single',' 500072,Hyderabad']\n",
    "print(mixed_data_types)"
   ]
  },
  {
   "cell_type": "markdown",
   "metadata": {},
   "source": [
    "Declare a list variable named it_companies and assign initial values Facebook, Google, Microsoft, Apple, IBM, Oracle and Amazon.\n",
    "\n",
    "Print the list using print()\n",
    "\n",
    "Print the number of companies in the list\n",
    "\n",
    "Print the first, middle and last company\n",
    "\n",
    "Print the list after modifying one of the companies\n",
    "\n",
    "Add an IT company to it_companies\n",
    "\n",
    "Insert an IT company in the middle of the companies list\n",
    "\n",
    "Change one of the it_companies names to uppercase (IBM excluded!)\n",
    "\n",
    "Join the it_companies with a string '#;  '"
   ]
  },
  {
   "cell_type": "code",
   "execution_count": 85,
   "metadata": {},
   "outputs": [
    {
     "name": "stdout",
     "output_type": "stream",
     "text": [
      "['Facebook', 'Google', 'Microsoft', 'Apple', 'IBM', 'Oracle', 'Amazon']\n",
      "7\n",
      "first  company: Facebook\n",
      "middle company : Apple\n",
      "last company : Amazon\n",
      "modified companies:['Facebook', 'Google', 'Accenture', 'Apple', 'IBM', 'Oracle', 'Amazon']\n",
      "['Facebook', 'Google', 'Accenture', 'Apple', 'IBM', 'Oracle', 'Amazon', 'IT']\n",
      "['Facebook', 'Google', 'Accenture', 'Apple', 'IT', 'IBM', 'Oracle', 'Amazon', 'IT']\n",
      "Facebook # Google # Accenture # Apple # IT # IBM # Oracle # Amazon # IT\n",
      "['Facebook', 'Google', 'Accenture', 'Apple', 'IT', 'IBM', 'Oracle', 'Amazon', 'IT', '#']\n",
      "FACEBOOK\n"
     ]
    }
   ],
   "source": [
    "it_companies=['Facebook','Google','Microsoft','Apple','IBM','Oracle','Amazon']\n",
    "print(it_companies)\n",
    "print(len(it_companies))\n",
    "\n",
    "print((f'first  company: {it_companies[0]}'))\n",
    "print(f'middle company : {it_companies[3]}')\n",
    "last_index=len(it_companies)-1\n",
    "last_company=it_companies[last_index]\n",
    "print(f'last company : {last_company}')\n",
    "\n",
    "it_companies[2]='Accenture'\n",
    "#print(f'orginal companies: {it_companies}')\n",
    "print(f'modified companies:{it_companies}')    #modified\n",
    "\n",
    "it_companies.append('IT')\n",
    "print(it_companies)        #append\n",
    "\n",
    "it_companies.insert(4,'IT')   #insert\n",
    "print(it_companies)\n",
    "\n",
    "c=' # '.join(it_companies)\n",
    "print(c)\n",
    "\n",
    "list2=['#']\n",
    "it_companies.extend(list2)\n",
    "print(it_companies)\n",
    "\n",
    "it_companies[0]=it_companies[0].upper()\n",
    "print(it_companies[0])"
   ]
  },
  {
   "cell_type": "markdown",
   "metadata": {},
   "source": [
    "Check if a certain company exists in the it_companies list.\n",
    "\n",
    "Sort the list using sort() method\n",
    "\n",
    "Reverse the list in descending order using reverse() method\n",
    "\n",
    "Slice out the first 3 companies from the list\n",
    "\n",
    "Slice out the last 3 companies from the list\n",
    "\n",
    "Slice out the middle IT company or companies from the list\n",
    "\n",
    "Remove the first IT company from the list\n",
    "\n",
    "Remove the middle IT company or companies from the list\n",
    "\n",
    "Remove the last IT company from the list\n",
    "\n",
    "Remove all IT companies from the list\n",
    "\n",
    "Destroy the IT companies list\n",
    "\n"
   ]
  },
  {
   "cell_type": "code",
   "execution_count": 88,
   "metadata": {},
   "outputs": [
    {
     "name": "stdout",
     "output_type": "stream",
     "text": [
      "True\n"
     ]
    }
   ],
   "source": [
    "b='FACEBOOK' in it_companies\n",
    "print(b)"
   ]
  },
  {
   "cell_type": "code",
   "execution_count": 89,
   "metadata": {},
   "outputs": [
    {
     "name": "stdout",
     "output_type": "stream",
     "text": [
      "False\n"
     ]
    }
   ],
   "source": [
    "b='facebook' in it_companies\n",
    "print(b)"
   ]
  },
  {
   "cell_type": "code",
   "execution_count": 90,
   "metadata": {},
   "outputs": [
    {
     "name": "stdout",
     "output_type": "stream",
     "text": [
      "['#', 'Accenture', 'Amazon', 'Apple', 'FACEBOOK', 'Google', 'IBM', 'IT', 'IT', 'Oracle']\n"
     ]
    }
   ],
   "source": [
    "it_companies.sort()\n",
    "print(it_companies)"
   ]
  },
  {
   "cell_type": "code",
   "execution_count": 91,
   "metadata": {},
   "outputs": [
    {
     "name": "stdout",
     "output_type": "stream",
     "text": [
      "['Oracle', 'IT', 'IT', 'IBM', 'Google', 'FACEBOOK', 'Apple', 'Amazon', 'Accenture', '#']\n"
     ]
    }
   ],
   "source": [
    "it_companies.reverse()\n",
    "print(it_companies)"
   ]
  },
  {
   "cell_type": "code",
   "execution_count": 92,
   "metadata": {},
   "outputs": [
    {
     "name": "stdout",
     "output_type": "stream",
     "text": [
      "['Oracle', 'IT', 'IT']\n"
     ]
    }
   ],
   "source": [
    "print(it_companies[0:3])"
   ]
  },
  {
   "cell_type": "code",
   "execution_count": 95,
   "metadata": {},
   "outputs": [
    {
     "name": "stdout",
     "output_type": "stream",
     "text": [
      "['Amazon', 'Accenture', '#']\n"
     ]
    }
   ],
   "source": [
    "print(it_companies[-3:])"
   ]
  },
  {
   "cell_type": "code",
   "execution_count": 96,
   "metadata": {},
   "outputs": [
    {
     "name": "stdout",
     "output_type": "stream",
     "text": [
      "['Google', 'FACEBOOK']\n"
     ]
    }
   ],
   "source": [
    "print(it_companies[4:6])"
   ]
  },
  {
   "cell_type": "code",
   "execution_count": 99,
   "metadata": {},
   "outputs": [
    {
     "name": "stdout",
     "output_type": "stream",
     "text": [
      "['Oracle', 'IBM', 'Google', 'FACEBOOK', 'Apple', 'Amazon', 'Accenture', '#']\n"
     ]
    }
   ],
   "source": [
    "it_companies.remove('IT')\n",
    "print(it_companies)"
   ]
  },
  {
   "cell_type": "code",
   "execution_count": 100,
   "metadata": {},
   "outputs": [
    {
     "name": "stdout",
     "output_type": "stream",
     "text": [
      "['Oracle', 'IBM', 'Google', 'FACEBOOK', 'Accenture', '#']\n"
     ]
    }
   ],
   "source": [
    "#remove\n",
    "middle_start=4\n",
    "middle_end=6\n",
    "\n",
    "it_companies=it_companies[:middle_start] + it_companies[middle_end:]\n",
    "print(it_companies)"
   ]
  },
  {
   "cell_type": "code",
   "execution_count": 101,
   "metadata": {},
   "outputs": [
    {
     "name": "stdout",
     "output_type": "stream",
     "text": [
      "None\n"
     ]
    }
   ],
   "source": [
    "print(it_companies.remove('#'))"
   ]
  },
  {
   "cell_type": "code",
   "execution_count": 102,
   "metadata": {},
   "outputs": [],
   "source": [
    "it_companies.clear()"
   ]
  },
  {
   "cell_type": "code",
   "execution_count": 103,
   "metadata": {},
   "outputs": [
    {
     "name": "stdout",
     "output_type": "stream",
     "text": [
      "[]\n"
     ]
    }
   ],
   "source": [
    "print(it_companies)"
   ]
  },
  {
   "cell_type": "markdown",
   "metadata": {},
   "source": [
    "Join the following lists:\n",
    "\n",
    "front_end = ['HTML', 'CSS', 'JS', 'React', 'Redux']\n",
    "back_end = ['Node','Express', 'MongoDB']\n",
    "\n",
    "After joining the lists in question 26. Copy the joined list and assign it to a variable full_stack. Then insert Python and SQL after Redux."
   ]
  },
  {
   "cell_type": "code",
   "execution_count": 106,
   "metadata": {},
   "outputs": [
    {
     "name": "stdout",
     "output_type": "stream",
     "text": [
      "['HTML', 'CSS', 'JS', 'react', 'Redux', 'node', 'express', 'mongoadb']\n"
     ]
    }
   ],
   "source": [
    "front_end=['HTML','CSS','JS','react','Redux']\n",
    "back_end=['node','express','mongoadb']\n",
    "front_end.extend(back_end)\n",
    "print(front_end)"
   ]
  },
  {
   "cell_type": "code",
   "execution_count": 107,
   "metadata": {},
   "outputs": [
    {
     "name": "stdout",
     "output_type": "stream",
     "text": [
      "['HTML', 'CSS', 'JS', 'react', 'Redux', 'node', 'express', 'mongoadb']\n"
     ]
    }
   ],
   "source": [
    "full_stack=front_end.copy()\n",
    "print(full_stack)"
   ]
  },
  {
   "cell_type": "code",
   "execution_count": 112,
   "metadata": {},
   "outputs": [],
   "source": [
    "full_stack.insert(5,'Python')\n",
    "full_stack.insert(6,'SQL')"
   ]
  },
  {
   "cell_type": "code",
   "execution_count": 110,
   "metadata": {},
   "outputs": [
    {
     "name": "stdout",
     "output_type": "stream",
     "text": [
      "['HTML', 'CSS', 'JS', 'react', 'Redux', 'Python', 'SQL', 'node', 'express', 'mongoadb']\n"
     ]
    }
   ],
   "source": [
    "print(full_stack)"
   ]
  },
  {
   "cell_type": "markdown",
   "metadata": {},
   "source": [
    "Exercises: Level 2\n",
    "The following is a list of 10 students ages:\n",
    "\n",
    "ages = [19, 22, 19, 24, 20, 25, 26, 24, 25, 24]\n",
    "\n",
    "Sort the list and find the min and max age\n",
    "\n",
    "Add the min age and the max age again to the list\n",
    "\n",
    "Find the median age (one middle item or two middle items divided by two)\n",
    "\n",
    "Find the average age (sum of all items divided by their number )\n",
    "\n",
    "Find the range of the ages (max minus min)\n",
    "\n",
    "Compare the value of (min - average) and (max - average), use abs() method\n",
    "\n",
    "Find the middle country(ies) in the countries list\n",
    "\n",
    "Divide the countries list into two equal lists if it is even if not one more country for the first half.\n",
    "['China', 'Russia', 'USA', 'Finland', 'Sweden', 'Norway', 'Denmark']. Unpack the first three countries and the rest as scandic countries."
   ]
  },
  {
   "cell_type": "code",
   "execution_count": 114,
   "metadata": {},
   "outputs": [
    {
     "name": "stdout",
     "output_type": "stream",
     "text": [
      "[19, 19, 20, 22, 24, 24, 24, 25, 25, 26]\n"
     ]
    }
   ],
   "source": [
    "ages = [19, 22, 19, 24, 20, 25, 26, 24, 25, 24]\n",
    "ages.sort()\n",
    "print(ages)"
   ]
  },
  {
   "cell_type": "code",
   "execution_count": 126,
   "metadata": {},
   "outputs": [
    {
     "data": {
      "text/plain": [
       "19"
      ]
     },
     "execution_count": 126,
     "metadata": {},
     "output_type": "execute_result"
    }
   ],
   "source": [
    "min(ages)"
   ]
  },
  {
   "cell_type": "code",
   "execution_count": 127,
   "metadata": {},
   "outputs": [
    {
     "data": {
      "text/plain": [
       "26"
      ]
     },
     "execution_count": 127,
     "metadata": {},
     "output_type": "execute_result"
    }
   ],
   "source": [
    "max(ages)"
   ]
  },
  {
   "cell_type": "code",
   "execution_count": 120,
   "metadata": {},
   "outputs": [
    {
     "name": "stdout",
     "output_type": "stream",
     "text": [
      "[19, 19, 20, 22, 24, 24, 24, 25, 25, 26, <built-in function min>, <built-in function min>, <built-in function max>, <built-in function min>, <built-in function max>, <built-in function min>, <built-in function max>]\n"
     ]
    }
   ],
   "source": [
    "ages.append(min)\n",
    "\n",
    "ages.append(max)\n",
    "\n",
    "print(ages)"
   ]
  },
  {
   "cell_type": "code",
   "execution_count": 123,
   "metadata": {},
   "outputs": [
    {
     "name": "stdout",
     "output_type": "stream",
     "text": [
      "median ages : 24\n"
     ]
    }
   ],
   "source": [
    "ages=[19,19,20,22,24,24,25,25,26]\n",
    "ages_sorted=sorted(ages)\n",
    "n=len(ages_sorted)\n",
    "\n",
    "if n%2==1:\n",
    "    median_age=ages_sorted[n//2]\n",
    "else:\n",
    "    middle1=ages_sorted[n//2-1]\n",
    "    middle2=ages_sorted[n//2]\n",
    "    median_age=(middle1+middle2)  /2\n",
    "print(f'median ages : {median_age}')    \n"
   ]
  },
  {
   "cell_type": "code",
   "execution_count": 124,
   "metadata": {},
   "outputs": [
    {
     "name": "stdout",
     "output_type": "stream",
     "text": [
      "22.666666666666668\n"
     ]
    }
   ],
   "source": [
    "sum_of_ages=sum(ages)\n",
    "num_of_ages=len(ages)\n",
    "average_age=sum_of_ages/num_of_ages\n",
    "print(average_age)"
   ]
  },
  {
   "cell_type": "code",
   "execution_count": 128,
   "metadata": {},
   "outputs": [
    {
     "name": "stdout",
     "output_type": "stream",
     "text": [
      "7\n"
     ]
    }
   ],
   "source": [
    "range=max(ages)-min(ages)\n",
    "print(range)"
   ]
  },
  {
   "cell_type": "code",
   "execution_count": 129,
   "metadata": {},
   "outputs": [
    {
     "name": "stdout",
     "output_type": "stream",
     "text": [
      "first half: ['China', 'Russia', 'USA', 'Finland']\n",
      "second half as acandic countries:['Sweden', 'Norway', 'Denmark']\n",
      "unpack countries : ('China', 'Russia', 'USA')\n",
      "rest countries : ['Finland', 'Sweden', 'Norway', 'Denmark']\n"
     ]
    }
   ],
   "source": [
    "countries=['China', 'Russia', 'USA', 'Finland', 'Sweden', 'Norway', 'Denmark']\n",
    "\n",
    "if len(countries)%2==0:\n",
    "    first_half=countries[:len(countries)//2]\n",
    "    second_half=countries[len(countries)//2:]\n",
    "else:\n",
    "    first_half=countries[:len(countries)//2+1]\n",
    "    second_half=countries[len(countries)//2+1:] \n",
    "\n",
    "c1,c2,c3,*scandic_countries=countries\n",
    "\n",
    "print(f'first half: {first_half}')\n",
    "print(f'second half as acandic countries:{second_half}')\n",
    "print(f'unpack countries : {c1,c2,c3}')\n",
    "print(f'rest countries : {scandic_countries}')"
   ]
  },
  {
   "cell_type": "code",
   "execution_count": 131,
   "metadata": {},
   "outputs": [
    {
     "name": "stdout",
     "output_type": "stream",
     "text": [
      "The absolute difference between min and average (3.666666666666668) is greater than max and average (3.333333333333332).\n"
     ]
    }
   ],
   "source": [
    "average=sum_of_ages/num_of_ages\n",
    "min_ages=min(ages)\n",
    "max_ages=max(ages)\n",
    "diff_min_age=abs(min_ages-average)\n",
    "diff_max_age=abs(max_ages-average)\n",
    "if diff_min_age > diff_max_age:\n",
    "    print(f\"The absolute difference between min and average ({diff_min_age}) is greater than max and average ({diff_max_age}).\")\n",
    "elif diff_min_age < diff_max_age:\n",
    "    print(f\"The absolute difference between max and average ({diff_max_age}) is greater than min and average ({diff_min_age}).\")\n",
    "else:\n",
    "    print(f\"The absolute differences between min and average ({diff_min_age}) and max and average ({diff_max_age}) are equal.\")"
   ]
  },
  {
   "cell_type": "code",
   "execution_count": null,
   "metadata": {},
   "outputs": [],
   "source": []
  }
 ],
 "metadata": {
  "kernelspec": {
   "display_name": "Python 3",
   "language": "python",
   "name": "python3"
  },
  "language_info": {
   "codemirror_mode": {
    "name": "ipython",
    "version": 3
   },
   "file_extension": ".py",
   "mimetype": "text/x-python",
   "name": "python",
   "nbconvert_exporter": "python",
   "pygments_lexer": "ipython3",
   "version": "3.12.4"
  }
 },
 "nbformat": 4,
 "nbformat_minor": 2
}
